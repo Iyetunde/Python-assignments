{
  "nbformat": 4,
  "nbformat_minor": 0,
  "metadata": {
    "colab": {
      "provenance": [],
      "authorship_tag": "ABX9TyM6Tad27SObay7rk57ItY8a",
      "include_colab_link": true
    },
    "kernelspec": {
      "name": "python3",
      "display_name": "Python 3"
    },
    "language_info": {
      "name": "python"
    }
  },
  "cells": [
    {
      "cell_type": "markdown",
      "metadata": {
        "id": "view-in-github",
        "colab_type": "text"
      },
      "source": [
        "<a href=\"https://colab.research.google.com/github/Iyetunde/Python-assignments/blob/main/Using_%26_controlling_loops_exercise.ipynb\" target=\"_parent\"><img src=\"https://colab.research.google.com/assets/colab-badge.svg\" alt=\"Open In Colab\"/></a>"
      ]
    },
    {
      "cell_type": "code",
      "execution_count": null,
      "metadata": {
        "id": "3E26_rasoD5v"
      },
      "outputs": [],
      "source": [
        "animals_tuple = ('Great White Shark', 'Blue Whale', 'African Elephant',  'Bald Eagle', 'Orangutan', 'Tiger', 'Tiger', 'Panda', 'Koala')\n",
        "animals_set= set(animals_tuple)\n",
        "animal_string = \"Great White Shark\""
      ]
    },
    {
      "cell_type": "code",
      "source": [
        "print(\"Tuple:\")\n",
        "for animal in animals_tuple:\n",
        "    print(animal)"
      ],
      "metadata": {
        "colab": {
          "base_uri": "https://localhost:8080/"
        },
        "id": "HLBGoFjJoRFh",
        "outputId": "90e953f6-55e3-420d-efb3-a7697385dc39"
      },
      "execution_count": null,
      "outputs": [
        {
          "output_type": "stream",
          "name": "stdout",
          "text": [
            "Tuple:\n",
            "Great White Shark\n",
            "Blue Whale\n",
            "African Elephant\n",
            "Bald Eagle\n",
            "Orangutan\n",
            "Tiger\n",
            "Tiger\n",
            "Panda\n",
            "Koala\n"
          ]
        }
      ]
    },
    {
      "cell_type": "code",
      "source": [
        "print(\"Set:\")\n",
        "for animal in animals_set:\n",
        "    print(animal)"
      ],
      "metadata": {
        "colab": {
          "base_uri": "https://localhost:8080/"
        },
        "id": "A2AY0qrYonBn",
        "outputId": "9ae29c7a-28f0-41cf-9f70-c52558b61ad5"
      },
      "execution_count": null,
      "outputs": [
        {
          "output_type": "stream",
          "name": "stdout",
          "text": [
            "Set:\n",
            "African Elephant\n",
            "Orangutan\n",
            "Blue Whale\n",
            "Koala\n",
            "Tiger\n",
            "Panda\n",
            "Great White Shark\n",
            "Bald Eagle\n"
          ]
        }
      ]
    },
    {
      "cell_type": "code",
      "source": [
        "print(\"String:\")\n",
        "for letter in animal_string:\n",
        "    print(letter)"
      ],
      "metadata": {
        "colab": {
          "base_uri": "https://localhost:8080/"
        },
        "id": "YsuI-1Zgo-fZ",
        "outputId": "67c65f2e-ef88-4697-903b-802310ead389"
      },
      "execution_count": null,
      "outputs": [
        {
          "output_type": "stream",
          "name": "stdout",
          "text": [
            "String:\n",
            "G\n",
            "r\n",
            "e\n",
            "a\n",
            "t\n",
            " \n",
            "W\n",
            "h\n",
            "i\n",
            "t\n",
            "e\n",
            " \n",
            "S\n",
            "h\n",
            "a\n",
            "r\n",
            "k\n"
          ]
        }
      ]
    },
    {
      "cell_type": "code",
      "source": [
        "# Searching for a specific number in a list\n",
        "animals = ['Great White Shark', 'Blue Whale', 'African Elephant',  'Bald Eagle', 'Orangutan', 'Tiger', 'Panda', 'Koala']\n",
        "\n",
        "for animal in animals:\n",
        "    print(animal)\n",
        "    if animal == 'African Elephant':\n",
        "        print(\"African Elephant found\")\n",
        "        break #Once African Elephant is found, the loop stops, so 'Bald Eagle', 'Orangutan', 'Tiger', 'Panda', 'Koala' are not printed.\n",
        "\n",
        "print(f\"The last animal checked = {animal}\")"
      ],
      "metadata": {
        "colab": {
          "base_uri": "https://localhost:8080/"
        },
        "id": "t-CutGA8tCAl",
        "outputId": "e4508b4b-4a2c-4bda-c4f9-e704e95ee15c"
      },
      "execution_count": null,
      "outputs": [
        {
          "output_type": "stream",
          "name": "stdout",
          "text": [
            "Great White Shark\n",
            "Blue Whale\n",
            "African Elephant\n",
            "African Elephant found\n",
            "The last animal checked = African Elephant\n"
          ]
        }
      ]
    },
    {
      "cell_type": "code",
      "source": [
        "for animal in animals:\n",
        "\n",
        "    if animal == 'African Elephant':\n",
        "        continue #Once African Elephant is found, the code in the rest of the loop is not executed, so African Elephant found is not printed.\n",
        "    print(animal)"
      ],
      "metadata": {
        "colab": {
          "base_uri": "https://localhost:8080/"
        },
        "id": "y74sML3Dtf5v",
        "outputId": "009556a1-08ae-49f0-ada1-9654471a785a"
      },
      "execution_count": null,
      "outputs": [
        {
          "output_type": "stream",
          "name": "stdout",
          "text": [
            "Great White Shark\n",
            "Blue Whale\n",
            "Bald Eagle\n",
            "Orangutan\n",
            "Tiger\n",
            "Panda\n",
            "Koala\n"
          ]
        }
      ]
    },
    {
      "cell_type": "code",
      "source": [
        "# By adding pass, the code still runs\n",
        "for animal in animals:\n",
        "    if animal == 'African Elephant':\n",
        "        pass #Skip elephants\n",
        "    else:\n",
        "        print (f\"{animal} is not an African Elephant\")"
      ],
      "metadata": {
        "colab": {
          "base_uri": "https://localhost:8080/"
        },
        "id": "bQU1IKiGt8Xm",
        "outputId": "a11aae06-3cd2-4658-b4ca-4b322dcef83e"
      },
      "execution_count": null,
      "outputs": [
        {
          "output_type": "stream",
          "name": "stdout",
          "text": [
            "Great White Shark is not an African Elephant\n",
            "Blue Whale is not an African Elephant\n",
            "Bald Eagle is not an African Elephant\n",
            "Orangutan is not an African Elephant\n",
            "Tiger is not an African Elephant\n",
            "Panda is not an African Elephant\n",
            "Koala is not an African Elephant\n"
          ]
        }
      ]
    },
    {
      "cell_type": "code",
      "source": [
        "animals = ['Great White Shark', 'Blue Whale', 'African Elephant', 'Bald Eagle', 'Orangutan', 'Tiger', 'Panda', 'Koala']\n",
        "\n",
        "for animal in animals:\n",
        "  print (animal)"
      ],
      "metadata": {
        "colab": {
          "base_uri": "https://localhost:8080/"
        },
        "id": "P6UTZC1kuqDv",
        "outputId": "0a4720aa-9206-4242-8eda-c4591d9ab83e"
      },
      "execution_count": null,
      "outputs": [
        {
          "output_type": "stream",
          "name": "stdout",
          "text": [
            "Great White Shark\n",
            "Blue Whale\n",
            "African Elephant\n",
            "Bald Eagle\n",
            "Orangutan\n",
            "Tiger\n",
            "Panda\n",
            "Koala\n"
          ]
        }
      ]
    },
    {
      "cell_type": "code",
      "source": [
        "i = 0\n",
        "while i < 5:\n",
        "    print(i)\n",
        "    i += 1"
      ],
      "metadata": {
        "colab": {
          "base_uri": "https://localhost:8080/"
        },
        "id": "kp178Q06uw9s",
        "outputId": "aeaa99be-cd17-4118-bac7-d0716385a89c"
      },
      "execution_count": null,
      "outputs": [
        {
          "output_type": "stream",
          "name": "stdout",
          "text": [
            "0\n",
            "1\n",
            "2\n",
            "3\n",
            "4\n"
          ]
        }
      ]
    },
    {
      "cell_type": "code",
      "source": [
        "for animal in animals:\n",
        "  print (animal)\n",
        "if animal == 'Orangutan':\n",
        "    break"
      ],
      "metadata": {
        "colab": {
          "base_uri": "https://localhost:8080/"
        },
        "id": "OBlxssp1vyfY",
        "outputId": "65a8b559-02e5-4646-c6a2-338b09174968"
      },
      "execution_count": null,
      "outputs": [
        {
          "output_type": "stream",
          "name": "stdout",
          "text": [
            "Great White Shark\n",
            "Blue Whale\n",
            "African Elephant\n",
            "Bald Eagle\n",
            "Orangutan\n"
          ]
        }
      ]
    },
    {
      "cell_type": "code",
      "source": [
        "for animal in animals:\n",
        "  print (animal)\n",
        "  if animal == 'bald Eagle':\n",
        "    continue"
      ],
      "metadata": {
        "colab": {
          "base_uri": "https://localhost:8080/"
        },
        "id": "-gzCKr0ZxbJL",
        "outputId": "02890474-64ae-4582-8d14-b006d018e066"
      },
      "execution_count": null,
      "outputs": [
        {
          "output_type": "stream",
          "name": "stdout",
          "text": [
            "Great White Shark\n",
            "Blue Whale\n",
            "African Elephant\n",
            "Bald Eagle\n",
            "Orangutan\n",
            "Tiger\n",
            "Panda\n",
            "Koala\n"
          ]
        }
      ]
    },
    {
      "cell_type": "code",
      "source": [
        "for animal in animals:\n",
        "    if animal == 'Panda':\n",
        "        pass\n",
        "    else:\n",
        "        print(animal)"
      ],
      "metadata": {
        "colab": {
          "base_uri": "https://localhost:8080/"
        },
        "id": "AY8-Am4GyU1g",
        "outputId": "a51ed4a3-a0af-4fc7-af64-15448117bdc9"
      },
      "execution_count": null,
      "outputs": [
        {
          "output_type": "stream",
          "name": "stdout",
          "text": [
            "Great White Shark\n",
            "Blue Whale\n",
            "African Elephant\n",
            "Bald Eagle\n",
            "Orangutan\n",
            "Tiger\n",
            "Koala\n"
          ]
        }
      ]
    },
    {
      "cell_type": "code",
      "source": [
        "deforestation_rates = [150, 145, 140, 135, 130]\n",
        "deforestation_years = [2010, 2011, 2012, 2013, 2014]"
      ],
      "metadata": {
        "id": "neVhyXNLzDnq"
      },
      "execution_count": null,
      "outputs": []
    },
    {
      "cell_type": "code",
      "source": [
        "for rate in deforestation_rates:\n",
        "   print(f\"rate = {rate}\")"
      ],
      "metadata": {
        "colab": {
          "base_uri": "https://localhost:8080/"
        },
        "id": "kQIBOPp0zHeS",
        "outputId": "e487162b-8cc4-4d59-9b30-a19a2a3c6de1"
      },
      "execution_count": null,
      "outputs": [
        {
          "output_type": "stream",
          "name": "stdout",
          "text": [
            "rate = 150\n",
            "rate = 145\n",
            "rate = 140\n",
            "rate = 135\n",
            "rate = 130\n"
          ]
        }
      ]
    },
    {
      "cell_type": "code",
      "source": [
        "for i in range(len(deforestation_rates)):\n",
        "    rate = deforestation_rates[i]\n",
        "    year = deforestation_years[i]\n",
        "    print(f\"i = {i} - Yearly deforestation rate in {year} is: {rate}k hectares\")"
      ],
      "metadata": {
        "colab": {
          "base_uri": "https://localhost:8080/"
        },
        "id": "UlNv2tPbzkED",
        "outputId": "0556a301-4331-4ff0-a96a-d0374fe5db25"
      },
      "execution_count": null,
      "outputs": [
        {
          "output_type": "stream",
          "name": "stdout",
          "text": [
            "i = 0 - Yearly deforestation rate in 2010 is: 150k hectares\n",
            "i = 1 - Yearly deforestation rate in 2011 is: 145k hectares\n",
            "i = 2 - Yearly deforestation rate in 2012 is: 140k hectares\n",
            "i = 3 - Yearly deforestation rate in 2013 is: 135k hectares\n",
            "i = 4 - Yearly deforestation rate in 2014 is: 130k hectares\n"
          ]
        }
      ]
    },
    {
      "cell_type": "code",
      "source": [
        "for i, rate in enumerate(deforestation_rates):\n",
        "    year = deforestation_years[i]\n",
        "    print(f\"i = {i} - Yearly deforestation rate in {year} is: {rate}k hectares\")"
      ],
      "metadata": {
        "colab": {
          "base_uri": "https://localhost:8080/"
        },
        "id": "wTDp49rsz7Gr",
        "outputId": "a15128b9-33fd-4690-f7d7-4b6323b5a73b"
      },
      "execution_count": null,
      "outputs": [
        {
          "output_type": "stream",
          "name": "stdout",
          "text": [
            "i = 0 - Yearly deforestation rate in 2010 is: 150k hectares\n",
            "i = 1 - Yearly deforestation rate in 2011 is: 145k hectares\n",
            "i = 2 - Yearly deforestation rate in 2012 is: 140k hectares\n",
            "i = 3 - Yearly deforestation rate in 2013 is: 135k hectares\n",
            "i = 4 - Yearly deforestation rate in 2014 is: 130k hectares\n"
          ]
        }
      ]
    },
    {
      "cell_type": "code",
      "source": [
        "marine_species_count = {\n",
        "    'Dolphins': 12,\n",
        "    'Whales': 3,\n",
        "    'Sea Turtles': 7\n",
        "}\n",
        "\n",
        "for species in marine_species_count:\n",
        "    print(f\"{species}: {marine_species_count[species]} sightings\")"
      ],
      "metadata": {
        "colab": {
          "base_uri": "https://localhost:8080/"
        },
        "id": "_wpGDS560SrO",
        "outputId": "5446cfc0-37ff-4ec9-93dd-59cedc7101cf"
      },
      "execution_count": null,
      "outputs": [
        {
          "output_type": "stream",
          "name": "stdout",
          "text": [
            "Dolphins: 12 sightings\n",
            "Whales: 3 sightings\n",
            "Sea Turtles: 7 sightings\n"
          ]
        }
      ]
    },
    {
      "cell_type": "code",
      "source": [
        "deforestation_data = {\n",
        "    'Amazon': 120,\n",
        "    'Congo Basin': 80,\n",
        "    'Southeast Asia': 95,\n",
        "    'Eastern Australia': 40\n",
        "}\n",
        "critical_threshold = 90\n",
        "\n",
        "for region, area in deforestation_data.items():\n",
        "    if area > critical_threshold:\n",
        "        print(f\"Critical deforestation in {region}: {area} square kilometres\")"
      ],
      "metadata": {
        "colab": {
          "base_uri": "https://localhost:8080/"
        },
        "id": "g49qIfMH1auF",
        "outputId": "1dbd56ff-a55d-413b-e41f-121fd187befd"
      },
      "execution_count": null,
      "outputs": [
        {
          "output_type": "stream",
          "name": "stdout",
          "text": [
            "Critical deforestation in Amazon: 120 square kilometres\n",
            "Critical deforestation in Southeast Asia: 95 square kilometres\n"
          ]
        }
      ]
    },
    {
      "cell_type": "code",
      "source": [
        "endangered_marine_species = ['Hawksbill Turtle', 'Vaquita', 'Blue Whale', 'Staghorn Coral', 'Green Turtle']\n",
        "endangered_count = 0\n",
        "\n",
        "for species in endangered_marine_species:\n",
        "    endangered_count += 1\n",
        "\n",
        "print(f\"Number of endangered marine species: {endangered_count}\")"
      ],
      "metadata": {
        "colab": {
          "base_uri": "https://localhost:8080/"
        },
        "id": "UR_TnAJe3UoF",
        "outputId": "bea77240-9fab-4460-f711-26b18ad89091"
      },
      "execution_count": null,
      "outputs": [
        {
          "output_type": "stream",
          "name": "stdout",
          "text": [
            "Number of endangered marine species: 5\n"
          ]
        }
      ]
    },
    {
      "cell_type": "code",
      "source": [
        "initial_forested_area = 1000  # in square kilometres\n",
        "deforestation_rate = 20       # square kilometres per year\n",
        "\n",
        "years = 0\n",
        "while initial_forested_area > 500:\n",
        "    initial_forested_area -= deforestation_rate\n",
        "    years += 1\n",
        "\n",
        "print(f\"Years until critical deforestation level: {years}\")"
      ],
      "metadata": {
        "colab": {
          "base_uri": "https://localhost:8080/"
        },
        "id": "etA0axW153Mz",
        "outputId": "0aba0a91-7b64-4801-fc10-39e85b2e25b3"
      },
      "execution_count": null,
      "outputs": [
        {
          "output_type": "stream",
          "name": "stdout",
          "text": [
            "Years until critical deforestation level: 25\n"
          ]
        }
      ]
    },
    {
      "cell_type": "code",
      "source": [
        "animals = ['Tiger', 'Blue Whale', 'African Elephant', 'Koala', 'Panda']\n",
        "endangered_animals = ['Tiger', 'Blue Whale', 'African Elephant']\n",
        "\n",
        "\n",
        "for animal in animals:\n",
        "    if animal in endangered_animals:\n",
        "        print(f\"{animal}: Endangered\")\n",
        "    else:\n",
        "        print(f\"{animal}: Not Endangered\")"
      ],
      "metadata": {
        "colab": {
          "base_uri": "https://localhost:8080/"
        },
        "id": "e8V4HFUU6V4P",
        "outputId": "093d91f9-a72b-4278-ef25-e3bbe45ab829"
      },
      "execution_count": null,
      "outputs": [
        {
          "output_type": "stream",
          "name": "stdout",
          "text": [
            "Tiger: Endangered\n",
            "Blue Whale: Endangered\n",
            "African Elephant: Endangered\n",
            "Koala: Not Endangered\n",
            "Panda: Not Endangered\n"
          ]
        }
      ]
    },
    {
      "cell_type": "code",
      "source": [
        "ocean_pollution_data = {\n",
        "    'Pacific Ocean': [3, 5, 2],  # pollution levels\n",
        "    'Atlantic Ocean': [7, 2, 4],\n",
        "    'Indian Ocean': [5, 1, 3]\n",
        "}\n",
        "\n",
        "# Your task: Use loops to calculate the average pollution level for each ocean and print it\n",
        "for ocean, pollution_levels in ocean_pollution_data.items():\n",
        "    average_pollution = sum(pollution_levels) / len(pollution_levels)\n",
        "    print(f\"The average pollution level in {ocean} is {average_pollution}.\")"
      ],
      "metadata": {
        "colab": {
          "base_uri": "https://localhost:8080/"
        },
        "id": "nJYfdCob-88J",
        "outputId": "14f3195d-5d35-477e-b187-575ab02ba1bb"
      },
      "execution_count": null,
      "outputs": [
        {
          "output_type": "stream",
          "name": "stdout",
          "text": [
            "The average pollution level in Pacific Ocean is 3.3333333333333335.\n",
            "The average pollution level in Atlantic Ocean is 4.333333333333333.\n",
            "The average pollution level in Indian Ocean is 3.0.\n"
          ]
        }
      ]
    },
    {
      "cell_type": "code",
      "source": [
        "species = ['Dolphins', 'Whales', 'Sea Turtles', 'Seals']\n",
        "status = ['Endangered', 'Vulnerable', 'Endangered', 'Least Concern']\n",
        "# Desired Output: {'Dolphins': 'Endangered', 'Sea Turtles': 'Endangered'}\n",
        "species_status = {}\n",
        "for i in range(len(species)):\n",
        "    species_status[species[i]] = status[i]\n",
        "print(species_status)\n",
        "number_of_species = range(len(species))\n",
        "\n",
        "endangered_species = {species[i]: status[i] for i in number_of_species if status[i] == 'Endangered'}\n",
        "print(endangered_species)"
      ],
      "metadata": {
        "colab": {
          "base_uri": "https://localhost:8080/"
        },
        "id": "kK4HmgjY_YfD",
        "outputId": "aaa2fa3a-a310-4ebb-c0f9-0f49e184f920"
      },
      "execution_count": null,
      "outputs": [
        {
          "output_type": "stream",
          "name": "stdout",
          "text": [
            "{'Dolphins': 'Endangered', 'Whales': 'Vulnerable', 'Sea Turtles': 'Endangered', 'Seals': 'Least Concern'}\n",
            "{'Dolphins': 'Endangered', 'Sea Turtles': 'Endangered'}\n"
          ]
        }
      ]
    }
  ]
}
