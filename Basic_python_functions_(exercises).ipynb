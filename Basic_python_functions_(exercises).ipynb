{
  "nbformat": 4,
  "nbformat_minor": 0,
  "metadata": {
    "colab": {
      "provenance": []
    },
    "kernelspec": {
      "name": "python3",
      "display_name": "Python 3"
    },
    "language_info": {
      "name": "python"
    }
  },
  "cells": [
    {
      "cell_type": "code",
      "execution_count": 9,
      "metadata": {
        "id": "j2aRbWA2lrRu",
        "colab": {
          "base_uri": "https://localhost:8080/"
        },
        "outputId": "737e19c8-e4c1-464c-f0e3-7ab2b9f3fd80"
      },
      "outputs": [
        {
          "output_type": "stream",
          "name": "stdout",
          "text": [
            "[10, 15, 8, 12, 20]\n",
            "40\n"
          ]
        }
      ],
      "source": [
        "\n",
        "deforested_land = [10, 15, 8, 12, 20]\n",
        "carbon_emission_factor = 40\n",
        "\n",
        "print (deforested_land)\n",
        "print (carbon_emission_factor)\n",
        "\n"
      ]
    },
    {
      "cell_type": "markdown",
      "source": [
        "Exercise 3\n",
        "Using the data representing the deforested land in hectares over the years, calculate and print the average deforested land using the sum and len built-in functions.\n",
        "\n",
        "Hint:\n",
        "\n",
        "Create a variable called average_deforested_land by adding the hectares of the deforested land together using the sum function and then dividing it by the number of values in the list, which can be derived using the len function."
      ],
      "metadata": {
        "id": "F_yh1PkDoW4a"
      }
    },
    {
      "cell_type": "code",
      "source": [
        "average_deforested_land = sum(deforested_land) / len(deforested_land)\n",
        "print(average_deforested_land)"
      ],
      "metadata": {
        "colab": {
          "base_uri": "https://localhost:8080/"
        },
        "id": "WfFoVjtqoZZl",
        "outputId": "052f2f56-ea33-48a6-acbb-64125c17ee63"
      },
      "execution_count": 4,
      "outputs": [
        {
          "output_type": "stream",
          "name": "stdout",
          "text": [
            "13.0\n"
          ]
        }
      ]
    },
    {
      "cell_type": "code",
      "source": [
        "def acres_to_hectares(acres):\n",
        "  conversion_rate = 0.404686\n",
        "\n",
        "  return acres * conversion_rate"
      ],
      "metadata": {
        "id": "v-D3LOI0nHYi"
      },
      "execution_count": 8,
      "outputs": []
    },
    {
      "cell_type": "markdown",
      "source": [
        "Exercise 2\n",
        "Create a function named acres_to_hectares that accepts a parameter of the area of a forest in acres and returns the corresponding area in hectares by multiplying the acres by a conversion rate of 0.404686.\n",
        "\n",
        "Remember to include the doc strings of the function."
      ],
      "metadata": {
        "id": "9Te-xTadnSci"
      }
    },
    {
      "cell_type": "markdown",
      "source": [
        "Exercise 1\n",
        "Given a list of deforested land in hectares over five years, calculate the total carbon emission over the years using built-in functions.\n",
        "\n",
        "Total carbon emissions are calculated by adding the hectares of deforested land and multiplying the total by a given carbon emissions factor of 40.\n",
        "\n",
        "Hint:\n",
        "\n",
        "Create a variable called total_deforested_land, the result of adding the hectares of the deforested land using the sum function.\n",
        "Create a variable called total_carbon_emission, the result of multiplying the total_deforested_land variable with the carbon emissions factor."
      ],
      "metadata": {
        "id": "zFs8Sdc1mjeY"
      }
    },
    {
      "cell_type": "code",
      "metadata": {
        "colab": {
          "base_uri": "https://localhost:8080/"
        },
        "id": "10419346",
        "outputId": "5127708a-85a9-45ae-f063-ac06193e314b"
      },
      "source": [
        "total_deforested_land = sum(deforested_land)\n",
        "total_carbon_emission = total_deforested_land * carbon_emission_factor\n",
        "\n",
        "print(\"Total carbon emission:\", total_carbon_emission)"
      ],
      "execution_count": 6,
      "outputs": [
        {
          "output_type": "stream",
          "name": "stdout",
          "text": [
            "Total carbon emission: 2600\n"
          ]
        }
      ]
    }
  ]
}